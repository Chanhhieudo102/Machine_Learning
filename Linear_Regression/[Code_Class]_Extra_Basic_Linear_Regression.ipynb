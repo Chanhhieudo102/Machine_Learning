{
  "nbformat": 4,
  "nbformat_minor": 0,
  "metadata": {
    "colab": {
      "private_outputs": true,
      "provenance": [],
      "toc_visible": true
    },
    "kernelspec": {
      "name": "python3",
      "display_name": "Python 3"
    },
    "language_info": {
      "name": "python"
    }
  },
  "cells": [
    {
      "cell_type": "code",
      "execution_count": null,
      "metadata": {
        "id": "CTw6YD2Sq5Sk"
      },
      "outputs": [],
      "source": [
        "x = 5\n",
        "y = 66\n",
        "x, y"
      ]
    },
    {
      "cell_type": "code",
      "source": [
        "# y = wx + b\n",
        "w = 10\n",
        "b = 5\n",
        "lr = 0.01"
      ],
      "metadata": {
        "id": "ms6lyx6nC-x3"
      },
      "execution_count": null,
      "outputs": []
    },
    {
      "cell_type": "code",
      "source": [
        "# predict\n",
        "def predict(x, w, b):\n",
        "    y_hat = w*x + b\n",
        "    return y_hat\n",
        "\n",
        "y_hat = predict(x, w, b)\n",
        "y_hat"
      ],
      "metadata": {
        "id": "Bsoy9miIDRSZ"
      },
      "execution_count": null,
      "outputs": []
    },
    {
      "cell_type": "code",
      "source": [
        "# compute loss\n",
        "def compute_loss(y_hat, y):\n",
        "    loss = (y_hat - y)**2\n",
        "    return loss\n",
        "\n",
        "loss = compute_loss(y_hat, y)\n",
        "loss"
      ],
      "metadata": {
        "id": "sY_7-pj_Dv88"
      },
      "execution_count": null,
      "outputs": []
    },
    {
      "cell_type": "code",
      "source": [
        "# compute gradient\n",
        "\n",
        "def compute_gradient(y_hat, y, x):\n",
        "    dw = 2*x*(y_hat - y)\n",
        "    db = 2*(y_hat-y)\n",
        "    return dw, db\n",
        "\n",
        "dw, db = compute_gradient(y_hat, y, x)\n",
        "dw, db"
      ],
      "metadata": {
        "id": "qIFXUv3hEHzN"
      },
      "execution_count": null,
      "outputs": []
    },
    {
      "cell_type": "code",
      "source": [
        "# update weight\n",
        "\n",
        "def update_weight(w, b, dw, db, lr):\n",
        "    w_new = w - lr*dw\n",
        "    b_new = b - lr*db\n",
        "    return w_new, b_new\n",
        "\n",
        "w_new, b_new = update_weight(w, b, dw, db, lr)\n",
        "w_new, b_new"
      ],
      "metadata": {
        "id": "FVv6cbNzEuPY"
      },
      "execution_count": null,
      "outputs": []
    },
    {
      "cell_type": "code",
      "source": [
        "y_hat = predict(x, w_new, b_new)\n",
        "y_hat"
      ],
      "metadata": {
        "id": "K6zX0AN1FXf1"
      },
      "execution_count": null,
      "outputs": []
    },
    {
      "cell_type": "code",
      "source": [
        "loss = compute_loss(y_hat, y)\n",
        "loss"
      ],
      "metadata": {
        "id": "Ujy0VQe2FgGC"
      },
      "execution_count": null,
      "outputs": []
    },
    {
      "cell_type": "markdown",
      "source": [
        "**N-Sample**"
      ],
      "metadata": {
        "id": "6JeoME19JFZ7"
      }
    },
    {
      "cell_type": "code",
      "source": [
        "X = [3, 4, 5, 6]\n",
        "Y = [60, 55, 66, 93]"
      ],
      "metadata": {
        "id": "hbuh1gNMFt-g"
      },
      "execution_count": null,
      "outputs": []
    },
    {
      "cell_type": "code",
      "source": [
        "w = 10\n",
        "b = 5\n",
        "lr = 0.01\n",
        "total_loss = 0\n",
        "for idx in range(len(X)):\n",
        "    x = X[idx]\n",
        "    y = Y[idx]\n",
        "    # predict\n",
        "    y_hat = predict(x, w, b)\n",
        "\n",
        "    # loss\n",
        "    loss = compute_loss(y_hat, y)\n",
        "    print(loss)\n",
        "    total_loss = total_loss + loss\n",
        "\n",
        "    # gradient\n",
        "    dw, db = compute_gradient(y_hat, y, x)\n",
        "\n",
        "    # update weight\n",
        "    w, b = update_weight(w, b, dw, db, lr)"
      ],
      "metadata": {
        "id": "YCJi1BTWF45b"
      },
      "execution_count": null,
      "outputs": []
    },
    {
      "cell_type": "code",
      "source": [
        "w, b"
      ],
      "metadata": {
        "id": "ARJf6OVfHM6h"
      },
      "execution_count": null,
      "outputs": []
    },
    {
      "cell_type": "code",
      "source": [
        "total_loss"
      ],
      "metadata": {
        "id": "clJr2aMlHCQs"
      },
      "execution_count": null,
      "outputs": []
    },
    {
      "cell_type": "code",
      "source": [
        "total_loss = 0\n",
        "for idx in range(len(X)):\n",
        "    x = X[idx]\n",
        "    y = Y[idx]\n",
        "    # predict\n",
        "    y_hat = predict(x, w, b)\n",
        "\n",
        "    # loss\n",
        "    loss = compute_loss(y_hat, y)\n",
        "    total_loss = total_loss + loss\n",
        "total_loss"
      ],
      "metadata": {
        "id": "Umb2OOr7HQ_I"
      },
      "execution_count": null,
      "outputs": []
    },
    {
      "cell_type": "markdown",
      "source": [
        "**Epochs**"
      ],
      "metadata": {
        "id": "HRAUQWOpJKu2"
      }
    },
    {
      "cell_type": "code",
      "source": [
        "w = 10\n",
        "b = 5\n",
        "lr = 0.01\n",
        "epochs = 20\n",
        "\n",
        "for epoch in range(epochs):\n",
        "    total_loss = 0\n",
        "    for idx in range(len(X)):\n",
        "        # get a sample\n",
        "        x = X[idx]\n",
        "        y = Y[idx]\n",
        "\n",
        "        # predict\n",
        "        y_hat = predict(x, w, b)\n",
        "\n",
        "        # loss\n",
        "        loss = compute_loss(y_hat, y)\n",
        "        total_loss = total_loss + loss\n",
        "\n",
        "        # gradient\n",
        "        dw, db = compute_gradient(y_hat, y, x)\n",
        "\n",
        "        # update weight\n",
        "        w, b = update_weight(w, b, dw, db, lr)\n",
        "\n",
        "    print(f'Epoch: {epoch}, Loss: {total_loss}')"
      ],
      "metadata": {
        "id": "4oU5Jc2oHhLD"
      },
      "execution_count": null,
      "outputs": []
    }
  ]
}