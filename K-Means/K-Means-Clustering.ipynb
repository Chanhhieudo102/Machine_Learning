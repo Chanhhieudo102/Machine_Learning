{
 "cells": [
  {
   "cell_type": "markdown",
   "metadata": {
    "id": "_bb7-T6I6syj"
   },
   "source": [
    "#K-Means for Classification"
   ]
  },
  {
   "cell_type": "code",
   "execution_count": null,
   "metadata": {
    "id": "vhyFfJVL6mKk"
   },
   "outputs": [],
   "source": [
    "import numpy as np\n",
    "import pandas as pd\n",
    "import matplotlib.pyplot as plt\n",
    "import seaborn as sns\n",
    "from sklearn.cluster import KMeans\n",
    "from sklearn.preprocessing import StandardScaler, LabelEncoder, MinMaxScaler\n",
    "from sklearn.metrics import adjusted_rand_score, silhouette_score"
   ]
  },
  {
   "cell_type": "markdown",
   "metadata": {
    "id": "C3KNcl6s61pk"
   },
   "source": [
    "## Load data"
   ]
  },
  {
   "cell_type": "code",
   "execution_count": null,
   "metadata": {
    "id": "WpVLoyquFN41"
   },
   "outputs": [],
   "source": [
    "df = pd.read_csv(\"Mall_Customers.csv\")"
   ]
  },
  {
   "cell_type": "code",
   "execution_count": null,
   "metadata": {
    "id": "qYA0Z5Z0FXOf"
   },
   "outputs": [],
   "source": [
    "df.head(3)"
   ]
  },
  {
   "cell_type": "code",
   "execution_count": null,
   "metadata": {
    "id": "b0_tgnK3Fa6Q"
   },
   "outputs": [],
   "source": [
    "df.info()"
   ]
  },
  {
   "cell_type": "code",
   "execution_count": null,
   "metadata": {
    "id": "c_JpoqQcFbsx"
   },
   "outputs": [],
   "source": [
    "df.describe()"
   ]
  },
  {
   "cell_type": "code",
   "execution_count": null,
   "metadata": {
    "id": "sJbTpDilFghw"
   },
   "outputs": [],
   "source": [
    "df.drop(\"CustomerID\", axis=1, inplace=True)"
   ]
  },
  {
   "cell_type": "code",
   "execution_count": null,
   "metadata": {
    "id": "OSwHXVRhFisE"
   },
   "outputs": [],
   "source": [
    "df"
   ]
  },
  {
   "cell_type": "markdown",
   "metadata": {
    "id": "AdLujxVKFm0f"
   },
   "source": [
    "## EDA"
   ]
  },
  {
   "cell_type": "code",
   "execution_count": null,
   "metadata": {
    "id": "325f3zYsFom4"
   },
   "outputs": [],
   "source": [
    "import math\n",
    "\n",
    "def plot_all_histograms(df, title_prefix=\"\"):\n",
    "    num_cols = df.select_dtypes(include=[np.number]).columns\n",
    "    n_cols = 3\n",
    "    n_rows = math.ceil(len(num_cols) / n_cols)\n",
    "\n",
    "    plt.figure(figsize=(5 * n_cols, 4 * n_rows))\n",
    "\n",
    "    for i, col in enumerate(num_cols, 1):\n",
    "        plt.subplot(n_rows, n_cols, i)\n",
    "        sns.histplot(df[col], kde=True, bins=30)\n",
    "        plt.title(f\"{title_prefix}{col}\")\n",
    "        plt.xlabel(\"\")\n",
    "        plt.ylabel(\"\")\n",
    "\n",
    "    plt.tight_layout()\n",
    "    plt.show()"
   ]
  },
  {
   "cell_type": "code",
   "execution_count": null,
   "metadata": {
    "id": "8O83R2ZxFqqA"
   },
   "outputs": [],
   "source": [
    "plot_all_histograms(df)"
   ]
  },
  {
   "cell_type": "code",
   "execution_count": null,
   "metadata": {
    "id": "JlWFsj7NFt39"
   },
   "outputs": [],
   "source": [
    "sns.countplot(data=df, x=\"Genre\", hue=\"Genre\")"
   ]
  },
  {
   "cell_type": "code",
   "execution_count": null,
   "metadata": {
    "id": "W3meykVI1saH"
   },
   "outputs": [],
   "source": [
    "# Correlation matrix\n",
    "plt.figure(figsize=(10, 8))\n",
    "numeric_df = df.select_dtypes(include=[np.number])\n",
    "sns.heatmap(numeric_df.corr(), annot=True, cmap='coolwarm', center=0)\n",
    "plt.title(\"Correlation Matrix\")\n",
    "plt.show()"
   ]
  },
  {
   "cell_type": "markdown",
   "metadata": {
    "id": "HvJpD0XO7Hh1"
   },
   "source": [
    "## Normalize Features"
   ]
  },
  {
   "cell_type": "code",
   "execution_count": null,
   "metadata": {
    "id": "n8PaaSI-F5AO"
   },
   "outputs": [],
   "source": [
    "label_encoder = LabelEncoder()\n",
    "\n",
    "df['Genre'] = label_encoder.fit_transform(df['Genre'])"
   ]
  },
  {
   "cell_type": "code",
   "execution_count": null,
   "metadata": {
    "id": "us0JR3UF7HAC"
   },
   "outputs": [],
   "source": [
    "scaler = MinMaxScaler()\n",
    "df_scaled = scaler.fit_transform(df)"
   ]
  },
  {
   "cell_type": "code",
   "execution_count": null,
   "metadata": {
    "id": "Jy5DA4YNGA26"
   },
   "outputs": [],
   "source": [
    "df = pd.DataFrame(df_scaled, columns = df.columns)\n",
    "df.head(3)"
   ]
  },
  {
   "cell_type": "code",
   "execution_count": null,
   "metadata": {
    "id": "FMptcoo_GDy_"
   },
   "outputs": [],
   "source": [
    "plot_all_histograms(df)"
   ]
  },
  {
   "cell_type": "markdown",
   "metadata": {
    "id": "JUVZSVNW7Rdh"
   },
   "source": [
    "## K-Means Clustering"
   ]
  },
  {
   "cell_type": "code",
   "execution_count": null,
   "metadata": {
    "id": "G5TuVyy8Im9S"
   },
   "outputs": [],
   "source": [
    "inertia = []\n",
    "silhouette_scores = []\n",
    "\n",
    "k_values = range(2, 11)\n",
    "for k in k_values:\n",
    "    kmeans = KMeans(n_clusters=k, random_state=42)\n",
    "    kmeans.fit(df_scaled)\n",
    "    inertia.append(kmeans.inertia_)\n",
    "    silhouette_scores.append(silhouette_score(df_scaled, kmeans.labels_))\n",
    "\n",
    "# Vẽ Elbow Method\n",
    "plt.plot(k_values, inertia, marker='o')\n",
    "plt.xlabel('Số cụm (k)')\n",
    "plt.ylabel('Inertia')\n",
    "plt.title('Elbow Method')\n",
    "plt.show()\n",
    "\n",
    "# Vẽ Silhouette Score\n",
    "plt.plot(k_values, silhouette_scores, marker='o', color='green')\n",
    "plt.xlabel('Số cụm (k)')\n",
    "plt.ylabel('Silhouette Score')\n",
    "plt.title('Silhouette Score cho từng k')\n",
    "plt.show()\n"
   ]
  },
  {
   "cell_type": "code",
   "execution_count": null,
   "metadata": {
    "id": "DewLoApQ7qx-"
   },
   "outputs": [],
   "source": [
    "optimal_k = k_values[np.argmax(silhouette_scores)]\n",
    "print(f\"Số cluster tối ưu theo Silhouette Score: {optimal_k}\")\n",
    "print(f\"Silhouette Score cao nhất: {max(silhouette_scores):.3f}\")"
   ]
  },
  {
   "cell_type": "code",
   "execution_count": null,
   "metadata": {
    "id": "Rf-WENFW1y9z"
   },
   "outputs": [],
   "source": [
    "kmeans_final = KMeans(n_clusters=optimal_k, random_state=42, n_init=10)\n",
    "cluster_labels = kmeans_final.fit_predict(df_scaled)"
   ]
  },
  {
   "cell_type": "code",
   "execution_count": null,
   "metadata": {
    "id": "_DnP19Bl1227"
   },
   "outputs": [],
   "source": [
    "silhouette_score(df_scaled, kmeans.labels_)"
   ]
  }
 ],
 "metadata": {
  "colab": {
   "authorship_tag": "ABX9TyMaJfhrRVBtovc6noCMh7JC",
   "private_outputs": true,
   "provenance": []
  },
  "kernelspec": {
   "display_name": "Python 3",
   "name": "python3"
  },
  "language_info": {
   "name": "python"
  }
 },
 "nbformat": 4,
 "nbformat_minor": 0
}
