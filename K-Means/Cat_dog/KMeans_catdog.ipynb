{
 "cells": [
  {
   "cell_type": "code",
   "execution_count": null,
   "id": "b6d7625b",
   "metadata": {},
   "outputs": [],
   "source": [
    "import cv2\n",
    "import os\n",
    "import numpy as np\n",
    "\n",
    "def load_images_from_folder(folder):\n",
    "    data = []   \n",
    "    for filename in os.listdir(folder):\n",
    "        if filename.lower().endswith('.jpg'):\n",
    "            img = cv2.imread(os.path.join(folder, filename))\n",
    "            data.append(img)\n",
    "    return data\n",
    "\n",
    "dog_images = load_images_from_folder('training/dog')\n",
    "cat_images = load_images_from_folder('training/cat')"
   ]
  },
  {
   "cell_type": "code",
   "execution_count": 3,
   "id": "358f6863",
   "metadata": {},
   "outputs": [
    {
     "data": {
      "text/plain": [
       "(224, 224, 3)"
      ]
     },
     "execution_count": 3,
     "metadata": {},
     "output_type": "execute_result"
    }
   ],
   "source": [
    "dog_images[0].shape"
   ]
  },
  {
   "cell_type": "code",
   "execution_count": null,
   "id": "4cddb239",
   "metadata": {},
   "outputs": [],
   "source": []
  },
  {
   "cell_type": "code",
   "execution_count": null,
   "id": "c4d5bdbe",
   "metadata": {},
   "outputs": [
    {
     "name": "stdout",
     "output_type": "stream",
     "text": [
      "(10, 224, 224, 3)\n",
      "(10, 224, 224, 3)\n"
     ]
    }
   ],
   "source": [
    "dog_images = np.array(dog_images)\n",
    "cat_images = np.array(cat_images)\n",
    "\n",
    "print(dog_images.shape)\n",
    "print(cat_images.shape)"
   ]
  },
  {
   "cell_type": "code",
   "execution_count": 5,
   "id": "e5daaab6",
   "metadata": {},
   "outputs": [
    {
     "data": {
      "text/plain": [
       "(10, 150528)"
      ]
     },
     "execution_count": 5,
     "metadata": {},
     "output_type": "execute_result"
    }
   ],
   "source": [
    "dog_images.reshape(10, -1).shape"
   ]
  },
  {
   "cell_type": "code",
   "execution_count": null,
   "id": "8701d6e5",
   "metadata": {},
   "outputs": [],
   "source": []
  },
  {
   "cell_type": "code",
   "execution_count": 6,
   "id": "813aaab6",
   "metadata": {},
   "outputs": [
    {
     "name": "stdout",
     "output_type": "stream",
     "text": [
      "(20, 150528)\n"
     ]
    }
   ],
   "source": [
    "# merge dog and cat image features\n",
    "merged_features = np.concatenate((dog_images.reshape(10, -1), cat_images.reshape(10, -1)), axis=0)\n",
    "print(merged_features.shape)"
   ]
  },
  {
   "cell_type": "code",
   "execution_count": null,
   "id": "3354c571",
   "metadata": {},
   "outputs": [],
   "source": []
  },
  {
   "cell_type": "code",
   "execution_count": 7,
   "id": "938cf475",
   "metadata": {},
   "outputs": [
    {
     "name": "stdout",
     "output_type": "stream",
     "text": [
      "[0 1 0 1 1 1 0 1 1 0 1 1 1 1 1 1 0 0 0 1]\n"
     ]
    }
   ],
   "source": [
    "\n",
    "from sklearn.cluster import KMeans\n",
    "\n",
    "# KMeans\n",
    "kmeans = KMeans(n_clusters=2).fit(merged_features)\n",
    "print(kmeans.labels_)"
   ]
  }
 ],
 "metadata": {
  "kernelspec": {
   "display_name": "Python 3 (ipykernel)",
   "language": "python",
   "name": "python3"
  },
  "language_info": {
   "codemirror_mode": {
    "name": "ipython",
    "version": 3
   },
   "file_extension": ".py",
   "mimetype": "text/x-python",
   "name": "python",
   "nbconvert_exporter": "python",
   "pygments_lexer": "ipython3",
   "version": "3.12.4"
  }
 },
 "nbformat": 4,
 "nbformat_minor": 5
}
