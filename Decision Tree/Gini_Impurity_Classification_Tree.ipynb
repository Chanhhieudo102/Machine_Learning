{
 "cells": [
  {
   "cell_type": "markdown",
   "metadata": {
    "id": "IB-htegyE3sb"
   },
   "source": [
    "## **1. Load and import libraries**"
   ]
  },
  {
   "cell_type": "code",
   "execution_count": null,
   "metadata": {
    "id": "Tc-YUrYJEMGO"
   },
   "outputs": [],
   "source": [
    "import pandas as pd\n",
    "import numpy as np\n",
    "import gradio as gr\n",
    "import matplotlib.pyplot as plt\n",
    "from IPython.display import display\n",
    "from sklearn.tree import DecisionTreeClassifier, plot_tree"
   ]
  },
  {
   "cell_type": "markdown",
   "metadata": {
    "id": "0pAFnGUPE_ZW"
   },
   "source": [
    "## **2. Load and encode the dataset**"
   ]
  },
  {
   "cell_type": "code",
   "execution_count": null,
   "metadata": {
    "colab": {
     "base_uri": "https://localhost:8080/",
     "height": 617
    },
    "executionInfo": {
     "elapsed": 126,
     "status": "ok",
     "timestamp": 1755081553812,
     "user": {
      "displayName": "HUY NGO GIA",
      "userId": "10961428971127427710"
     },
     "user_tz": -420
    },
    "id": "zcRLc-3jEAm1",
    "outputId": "6fb916af-38f8-4706-87fb-26a01ae50872"
   },
   "outputs": [
    {
     "name": "stdout",
     "output_type": "stream",
     "text": [
      "Original dataset:\n"
     ]
    },
    {
     "data": {
      "application/vnd.google.colaboratory.intrinsic+json": {
       "summary": "{\n  \"name\": \"df\",\n  \"rows\": 8,\n  \"fields\": [\n    {\n      \"column\": \"\\u0110i\\u1ec3m_T\\u1ed1t_Nghi\\u1ec7p\",\n      \"properties\": {\n        \"dtype\": \"number\",\n        \"std\": 4.828764260731133,\n        \"min\": 12.0,\n        \"max\": 26.0,\n        \"num_unique_values\": 8,\n        \"samples\": [\n          14.5,\n          22.0,\n          12.0\n        ],\n        \"semantic_type\": \"\",\n        \"description\": \"\"\n      }\n    },\n    {\n      \"column\": \"Ch\\u1ee9ng_ch\\u1ec9_Ielts\",\n      \"properties\": {\n        \"dtype\": \"category\",\n        \"num_unique_values\": 2,\n        \"samples\": [\n          \"C\\u00f3\",\n          \"Kh\\u00f4ng\"\n        ],\n        \"semantic_type\": \"\",\n        \"description\": \"\"\n      }\n    },\n    {\n      \"column\": \"C\\u1ed9ng_\\u0110i\\u1ec3m_D\\u00e2n_T\\u1ed9c\",\n      \"properties\": {\n        \"dtype\": \"category\",\n        \"num_unique_values\": 2,\n        \"samples\": [\n          \"C\\u00f3\",\n          \"Kh\\u00f4ng\"\n        ],\n        \"semantic_type\": \"\",\n        \"description\": \"\"\n      }\n    },\n    {\n      \"column\": \"\\u0110\\u1eadu_\\u0110H\",\n      \"properties\": {\n        \"dtype\": \"category\",\n        \"num_unique_values\": 2,\n        \"samples\": [\n          \"C\\u00f3\",\n          \"Kh\\u00f4ng\"\n        ],\n        \"semantic_type\": \"\",\n        \"description\": \"\"\n      }\n    }\n  ]\n}",
       "type": "dataframe",
       "variable_name": "df"
      },
      "text/html": [
       "\n",
       "  <div id=\"df-60574e76-b764-4791-a49a-4fc1352838ac\" class=\"colab-df-container\">\n",
       "    <div>\n",
       "<style scoped>\n",
       "    .dataframe tbody tr th:only-of-type {\n",
       "        vertical-align: middle;\n",
       "    }\n",
       "\n",
       "    .dataframe tbody tr th {\n",
       "        vertical-align: top;\n",
       "    }\n",
       "\n",
       "    .dataframe thead th {\n",
       "        text-align: right;\n",
       "    }\n",
       "</style>\n",
       "<table border=\"1\" class=\"dataframe\">\n",
       "  <thead>\n",
       "    <tr style=\"text-align: right;\">\n",
       "      <th></th>\n",
       "      <th>Điểm_Tốt_Nghiệp</th>\n",
       "      <th>Chứng_chỉ_Ielts</th>\n",
       "      <th>Cộng_Điểm_Dân_Tộc</th>\n",
       "      <th>Đậu_ĐH</th>\n",
       "    </tr>\n",
       "  </thead>\n",
       "  <tbody>\n",
       "    <tr>\n",
       "      <th>0</th>\n",
       "      <td>12.0</td>\n",
       "      <td>Không</td>\n",
       "      <td>Không</td>\n",
       "      <td>Không</td>\n",
       "    </tr>\n",
       "    <tr>\n",
       "      <th>1</th>\n",
       "      <td>14.5</td>\n",
       "      <td>Không</td>\n",
       "      <td>Có</td>\n",
       "      <td>Không</td>\n",
       "    </tr>\n",
       "    <tr>\n",
       "      <th>2</th>\n",
       "      <td>16.0</td>\n",
       "      <td>Không</td>\n",
       "      <td>Không</td>\n",
       "      <td>Không</td>\n",
       "    </tr>\n",
       "    <tr>\n",
       "      <th>3</th>\n",
       "      <td>18.0</td>\n",
       "      <td>Không</td>\n",
       "      <td>Có</td>\n",
       "      <td>Không</td>\n",
       "    </tr>\n",
       "    <tr>\n",
       "      <th>4</th>\n",
       "      <td>20.0</td>\n",
       "      <td>Có</td>\n",
       "      <td>Không</td>\n",
       "      <td>Có</td>\n",
       "    </tr>\n",
       "    <tr>\n",
       "      <th>5</th>\n",
       "      <td>22.0</td>\n",
       "      <td>Không</td>\n",
       "      <td>Không</td>\n",
       "      <td>Không</td>\n",
       "    </tr>\n",
       "    <tr>\n",
       "      <th>6</th>\n",
       "      <td>24.0</td>\n",
       "      <td>Có</td>\n",
       "      <td>Có</td>\n",
       "      <td>Có</td>\n",
       "    </tr>\n",
       "    <tr>\n",
       "      <th>7</th>\n",
       "      <td>26.0</td>\n",
       "      <td>Không</td>\n",
       "      <td>Không</td>\n",
       "      <td>Có</td>\n",
       "    </tr>\n",
       "  </tbody>\n",
       "</table>\n",
       "</div>\n",
       "    <div class=\"colab-df-buttons\">\n",
       "\n",
       "  <div class=\"colab-df-container\">\n",
       "    <button class=\"colab-df-convert\" onclick=\"convertToInteractive('df-60574e76-b764-4791-a49a-4fc1352838ac')\"\n",
       "            title=\"Convert this dataframe to an interactive table.\"\n",
       "            style=\"display:none;\">\n",
       "\n",
       "  <svg xmlns=\"http://www.w3.org/2000/svg\" height=\"24px\" viewBox=\"0 -960 960 960\">\n",
       "    <path d=\"M120-120v-720h720v720H120Zm60-500h600v-160H180v160Zm220 220h160v-160H400v160Zm0 220h160v-160H400v160ZM180-400h160v-160H180v160Zm440 0h160v-160H620v160ZM180-180h160v-160H180v160Zm440 0h160v-160H620v160Z\"/>\n",
       "  </svg>\n",
       "    </button>\n",
       "\n",
       "  <style>\n",
       "    .colab-df-container {\n",
       "      display:flex;\n",
       "      gap: 12px;\n",
       "    }\n",
       "\n",
       "    .colab-df-convert {\n",
       "      background-color: #E8F0FE;\n",
       "      border: none;\n",
       "      border-radius: 50%;\n",
       "      cursor: pointer;\n",
       "      display: none;\n",
       "      fill: #1967D2;\n",
       "      height: 32px;\n",
       "      padding: 0 0 0 0;\n",
       "      width: 32px;\n",
       "    }\n",
       "\n",
       "    .colab-df-convert:hover {\n",
       "      background-color: #E2EBFA;\n",
       "      box-shadow: 0px 1px 2px rgba(60, 64, 67, 0.3), 0px 1px 3px 1px rgba(60, 64, 67, 0.15);\n",
       "      fill: #174EA6;\n",
       "    }\n",
       "\n",
       "    .colab-df-buttons div {\n",
       "      margin-bottom: 4px;\n",
       "    }\n",
       "\n",
       "    [theme=dark] .colab-df-convert {\n",
       "      background-color: #3B4455;\n",
       "      fill: #D2E3FC;\n",
       "    }\n",
       "\n",
       "    [theme=dark] .colab-df-convert:hover {\n",
       "      background-color: #434B5C;\n",
       "      box-shadow: 0px 1px 3px 1px rgba(0, 0, 0, 0.15);\n",
       "      filter: drop-shadow(0px 1px 2px rgba(0, 0, 0, 0.3));\n",
       "      fill: #FFFFFF;\n",
       "    }\n",
       "  </style>\n",
       "\n",
       "    <script>\n",
       "      const buttonEl =\n",
       "        document.querySelector('#df-60574e76-b764-4791-a49a-4fc1352838ac button.colab-df-convert');\n",
       "      buttonEl.style.display =\n",
       "        google.colab.kernel.accessAllowed ? 'block' : 'none';\n",
       "\n",
       "      async function convertToInteractive(key) {\n",
       "        const element = document.querySelector('#df-60574e76-b764-4791-a49a-4fc1352838ac');\n",
       "        const dataTable =\n",
       "          await google.colab.kernel.invokeFunction('convertToInteractive',\n",
       "                                                    [key], {});\n",
       "        if (!dataTable) return;\n",
       "\n",
       "        const docLinkHtml = 'Like what you see? Visit the ' +\n",
       "          '<a target=\"_blank\" href=https://colab.research.google.com/notebooks/data_table.ipynb>data table notebook</a>'\n",
       "          + ' to learn more about interactive tables.';\n",
       "        element.innerHTML = '';\n",
       "        dataTable['output_type'] = 'display_data';\n",
       "        await google.colab.output.renderOutput(dataTable, element);\n",
       "        const docLink = document.createElement('div');\n",
       "        docLink.innerHTML = docLinkHtml;\n",
       "        element.appendChild(docLink);\n",
       "      }\n",
       "    </script>\n",
       "  </div>\n",
       "\n",
       "\n",
       "    <div id=\"df-2ae74a60-394c-43aa-b4f5-7480a8ea0db2\">\n",
       "      <button class=\"colab-df-quickchart\" onclick=\"quickchart('df-2ae74a60-394c-43aa-b4f5-7480a8ea0db2')\"\n",
       "                title=\"Suggest charts\"\n",
       "                style=\"display:none;\">\n",
       "\n",
       "<svg xmlns=\"http://www.w3.org/2000/svg\" height=\"24px\"viewBox=\"0 0 24 24\"\n",
       "     width=\"24px\">\n",
       "    <g>\n",
       "        <path d=\"M19 3H5c-1.1 0-2 .9-2 2v14c0 1.1.9 2 2 2h14c1.1 0 2-.9 2-2V5c0-1.1-.9-2-2-2zM9 17H7v-7h2v7zm4 0h-2V7h2v10zm4 0h-2v-4h2v4z\"/>\n",
       "    </g>\n",
       "</svg>\n",
       "      </button>\n",
       "\n",
       "<style>\n",
       "  .colab-df-quickchart {\n",
       "      --bg-color: #E8F0FE;\n",
       "      --fill-color: #1967D2;\n",
       "      --hover-bg-color: #E2EBFA;\n",
       "      --hover-fill-color: #174EA6;\n",
       "      --disabled-fill-color: #AAA;\n",
       "      --disabled-bg-color: #DDD;\n",
       "  }\n",
       "\n",
       "  [theme=dark] .colab-df-quickchart {\n",
       "      --bg-color: #3B4455;\n",
       "      --fill-color: #D2E3FC;\n",
       "      --hover-bg-color: #434B5C;\n",
       "      --hover-fill-color: #FFFFFF;\n",
       "      --disabled-bg-color: #3B4455;\n",
       "      --disabled-fill-color: #666;\n",
       "  }\n",
       "\n",
       "  .colab-df-quickchart {\n",
       "    background-color: var(--bg-color);\n",
       "    border: none;\n",
       "    border-radius: 50%;\n",
       "    cursor: pointer;\n",
       "    display: none;\n",
       "    fill: var(--fill-color);\n",
       "    height: 32px;\n",
       "    padding: 0;\n",
       "    width: 32px;\n",
       "  }\n",
       "\n",
       "  .colab-df-quickchart:hover {\n",
       "    background-color: var(--hover-bg-color);\n",
       "    box-shadow: 0 1px 2px rgba(60, 64, 67, 0.3), 0 1px 3px 1px rgba(60, 64, 67, 0.15);\n",
       "    fill: var(--button-hover-fill-color);\n",
       "  }\n",
       "\n",
       "  .colab-df-quickchart-complete:disabled,\n",
       "  .colab-df-quickchart-complete:disabled:hover {\n",
       "    background-color: var(--disabled-bg-color);\n",
       "    fill: var(--disabled-fill-color);\n",
       "    box-shadow: none;\n",
       "  }\n",
       "\n",
       "  .colab-df-spinner {\n",
       "    border: 2px solid var(--fill-color);\n",
       "    border-color: transparent;\n",
       "    border-bottom-color: var(--fill-color);\n",
       "    animation:\n",
       "      spin 1s steps(1) infinite;\n",
       "  }\n",
       "\n",
       "  @keyframes spin {\n",
       "    0% {\n",
       "      border-color: transparent;\n",
       "      border-bottom-color: var(--fill-color);\n",
       "      border-left-color: var(--fill-color);\n",
       "    }\n",
       "    20% {\n",
       "      border-color: transparent;\n",
       "      border-left-color: var(--fill-color);\n",
       "      border-top-color: var(--fill-color);\n",
       "    }\n",
       "    30% {\n",
       "      border-color: transparent;\n",
       "      border-left-color: var(--fill-color);\n",
       "      border-top-color: var(--fill-color);\n",
       "      border-right-color: var(--fill-color);\n",
       "    }\n",
       "    40% {\n",
       "      border-color: transparent;\n",
       "      border-right-color: var(--fill-color);\n",
       "      border-top-color: var(--fill-color);\n",
       "    }\n",
       "    60% {\n",
       "      border-color: transparent;\n",
       "      border-right-color: var(--fill-color);\n",
       "    }\n",
       "    80% {\n",
       "      border-color: transparent;\n",
       "      border-right-color: var(--fill-color);\n",
       "      border-bottom-color: var(--fill-color);\n",
       "    }\n",
       "    90% {\n",
       "      border-color: transparent;\n",
       "      border-bottom-color: var(--fill-color);\n",
       "    }\n",
       "  }\n",
       "</style>\n",
       "\n",
       "      <script>\n",
       "        async function quickchart(key) {\n",
       "          const quickchartButtonEl =\n",
       "            document.querySelector('#' + key + ' button');\n",
       "          quickchartButtonEl.disabled = true;  // To prevent multiple clicks.\n",
       "          quickchartButtonEl.classList.add('colab-df-spinner');\n",
       "          try {\n",
       "            const charts = await google.colab.kernel.invokeFunction(\n",
       "                'suggestCharts', [key], {});\n",
       "          } catch (error) {\n",
       "            console.error('Error during call to suggestCharts:', error);\n",
       "          }\n",
       "          quickchartButtonEl.classList.remove('colab-df-spinner');\n",
       "          quickchartButtonEl.classList.add('colab-df-quickchart-complete');\n",
       "        }\n",
       "        (() => {\n",
       "          let quickchartButtonEl =\n",
       "            document.querySelector('#df-2ae74a60-394c-43aa-b4f5-7480a8ea0db2 button');\n",
       "          quickchartButtonEl.style.display =\n",
       "            google.colab.kernel.accessAllowed ? 'block' : 'none';\n",
       "        })();\n",
       "      </script>\n",
       "    </div>\n",
       "\n",
       "  <div id=\"id_bf3a604c-ef14-43d1-8a11-956de27edf40\">\n",
       "    <style>\n",
       "      .colab-df-generate {\n",
       "        background-color: #E8F0FE;\n",
       "        border: none;\n",
       "        border-radius: 50%;\n",
       "        cursor: pointer;\n",
       "        display: none;\n",
       "        fill: #1967D2;\n",
       "        height: 32px;\n",
       "        padding: 0 0 0 0;\n",
       "        width: 32px;\n",
       "      }\n",
       "\n",
       "      .colab-df-generate:hover {\n",
       "        background-color: #E2EBFA;\n",
       "        box-shadow: 0px 1px 2px rgba(60, 64, 67, 0.3), 0px 1px 3px 1px rgba(60, 64, 67, 0.15);\n",
       "        fill: #174EA6;\n",
       "      }\n",
       "\n",
       "      [theme=dark] .colab-df-generate {\n",
       "        background-color: #3B4455;\n",
       "        fill: #D2E3FC;\n",
       "      }\n",
       "\n",
       "      [theme=dark] .colab-df-generate:hover {\n",
       "        background-color: #434B5C;\n",
       "        box-shadow: 0px 1px 3px 1px rgba(0, 0, 0, 0.15);\n",
       "        filter: drop-shadow(0px 1px 2px rgba(0, 0, 0, 0.3));\n",
       "        fill: #FFFFFF;\n",
       "      }\n",
       "    </style>\n",
       "    <button class=\"colab-df-generate\" onclick=\"generateWithVariable('df')\"\n",
       "            title=\"Generate code using this dataframe.\"\n",
       "            style=\"display:none;\">\n",
       "\n",
       "  <svg xmlns=\"http://www.w3.org/2000/svg\" height=\"24px\"viewBox=\"0 0 24 24\"\n",
       "       width=\"24px\">\n",
       "    <path d=\"M7,19H8.4L18.45,9,17,7.55,7,17.6ZM5,21V16.75L18.45,3.32a2,2,0,0,1,2.83,0l1.4,1.43a1.91,1.91,0,0,1,.58,1.4,1.91,1.91,0,0,1-.58,1.4L9.25,21ZM18.45,9,17,7.55Zm-12,3A5.31,5.31,0,0,0,4.9,8.1,5.31,5.31,0,0,0,1,6.5,5.31,5.31,0,0,0,4.9,4.9,5.31,5.31,0,0,0,6.5,1,5.31,5.31,0,0,0,8.1,4.9,5.31,5.31,0,0,0,12,6.5,5.46,5.46,0,0,0,6.5,12Z\"/>\n",
       "  </svg>\n",
       "    </button>\n",
       "    <script>\n",
       "      (() => {\n",
       "      const buttonEl =\n",
       "        document.querySelector('#id_bf3a604c-ef14-43d1-8a11-956de27edf40 button.colab-df-generate');\n",
       "      buttonEl.style.display =\n",
       "        google.colab.kernel.accessAllowed ? 'block' : 'none';\n",
       "\n",
       "      buttonEl.onclick = () => {\n",
       "        google.colab.notebook.generateWithVariable('df');\n",
       "      }\n",
       "      })();\n",
       "    </script>\n",
       "  </div>\n",
       "\n",
       "    </div>\n",
       "  </div>\n"
      ],
      "text/plain": [
       "   Điểm_Tốt_Nghiệp Chứng_chỉ_Ielts Cộng_Điểm_Dân_Tộc Đậu_ĐH\n",
       "0             12.0           Không             Không  Không\n",
       "1             14.5           Không                Có  Không\n",
       "2             16.0           Không             Không  Không\n",
       "3             18.0           Không                Có  Không\n",
       "4             20.0              Có             Không     Có\n",
       "5             22.0           Không             Không  Không\n",
       "6             24.0              Có                Có     Có\n",
       "7             26.0           Không             Không     Có"
      ]
     },
     "metadata": {},
     "output_type": "display_data"
    },
    {
     "name": "stdout",
     "output_type": "stream",
     "text": [
      "Encoded dataset:\n"
     ]
    },
    {
     "data": {
      "application/vnd.google.colaboratory.intrinsic+json": {
       "summary": "{\n  \"name\": \"df_encoded\",\n  \"rows\": 8,\n  \"fields\": [\n    {\n      \"column\": \"\\u0110i\\u1ec3m_T\\u1ed1t_Nghi\\u1ec7p\",\n      \"properties\": {\n        \"dtype\": \"number\",\n        \"std\": 4.828764260731133,\n        \"min\": 12.0,\n        \"max\": 26.0,\n        \"num_unique_values\": 8,\n        \"samples\": [\n          14.5,\n          22.0,\n          12.0\n        ],\n        \"semantic_type\": \"\",\n        \"description\": \"\"\n      }\n    },\n    {\n      \"column\": \"Ch\\u1ee9ng_ch\\u1ec9_Ielts\",\n      \"properties\": {\n        \"dtype\": \"number\",\n        \"std\": 0,\n        \"min\": 0,\n        \"max\": 1,\n        \"num_unique_values\": 2,\n        \"samples\": [\n          0,\n          1\n        ],\n        \"semantic_type\": \"\",\n        \"description\": \"\"\n      }\n    },\n    {\n      \"column\": \"C\\u1ed9ng_\\u0110i\\u1ec3m_D\\u00e2n_T\\u1ed9c\",\n      \"properties\": {\n        \"dtype\": \"number\",\n        \"std\": 0,\n        \"min\": 0,\n        \"max\": 1,\n        \"num_unique_values\": 2,\n        \"samples\": [\n          0,\n          1\n        ],\n        \"semantic_type\": \"\",\n        \"description\": \"\"\n      }\n    },\n    {\n      \"column\": \"\\u0110\\u1eadu_\\u0110H\",\n      \"properties\": {\n        \"dtype\": \"number\",\n        \"std\": 0,\n        \"min\": 0,\n        \"max\": 1,\n        \"num_unique_values\": 2,\n        \"samples\": [\n          1,\n          0\n        ],\n        \"semantic_type\": \"\",\n        \"description\": \"\"\n      }\n    }\n  ]\n}",
       "type": "dataframe",
       "variable_name": "df_encoded"
      },
      "text/html": [
       "\n",
       "  <div id=\"df-2d81bb88-7ee6-4ce4-a154-9c05ede1a5fa\" class=\"colab-df-container\">\n",
       "    <div>\n",
       "<style scoped>\n",
       "    .dataframe tbody tr th:only-of-type {\n",
       "        vertical-align: middle;\n",
       "    }\n",
       "\n",
       "    .dataframe tbody tr th {\n",
       "        vertical-align: top;\n",
       "    }\n",
       "\n",
       "    .dataframe thead th {\n",
       "        text-align: right;\n",
       "    }\n",
       "</style>\n",
       "<table border=\"1\" class=\"dataframe\">\n",
       "  <thead>\n",
       "    <tr style=\"text-align: right;\">\n",
       "      <th></th>\n",
       "      <th>Điểm_Tốt_Nghiệp</th>\n",
       "      <th>Chứng_chỉ_Ielts</th>\n",
       "      <th>Cộng_Điểm_Dân_Tộc</th>\n",
       "      <th>Đậu_ĐH</th>\n",
       "    </tr>\n",
       "  </thead>\n",
       "  <tbody>\n",
       "    <tr>\n",
       "      <th>0</th>\n",
       "      <td>12.0</td>\n",
       "      <td>1</td>\n",
       "      <td>1</td>\n",
       "      <td>0</td>\n",
       "    </tr>\n",
       "    <tr>\n",
       "      <th>1</th>\n",
       "      <td>14.5</td>\n",
       "      <td>1</td>\n",
       "      <td>0</td>\n",
       "      <td>0</td>\n",
       "    </tr>\n",
       "    <tr>\n",
       "      <th>2</th>\n",
       "      <td>16.0</td>\n",
       "      <td>1</td>\n",
       "      <td>1</td>\n",
       "      <td>0</td>\n",
       "    </tr>\n",
       "    <tr>\n",
       "      <th>3</th>\n",
       "      <td>18.0</td>\n",
       "      <td>1</td>\n",
       "      <td>0</td>\n",
       "      <td>0</td>\n",
       "    </tr>\n",
       "    <tr>\n",
       "      <th>4</th>\n",
       "      <td>20.0</td>\n",
       "      <td>0</td>\n",
       "      <td>1</td>\n",
       "      <td>1</td>\n",
       "    </tr>\n",
       "    <tr>\n",
       "      <th>5</th>\n",
       "      <td>22.0</td>\n",
       "      <td>1</td>\n",
       "      <td>1</td>\n",
       "      <td>0</td>\n",
       "    </tr>\n",
       "    <tr>\n",
       "      <th>6</th>\n",
       "      <td>24.0</td>\n",
       "      <td>0</td>\n",
       "      <td>0</td>\n",
       "      <td>1</td>\n",
       "    </tr>\n",
       "    <tr>\n",
       "      <th>7</th>\n",
       "      <td>26.0</td>\n",
       "      <td>1</td>\n",
       "      <td>1</td>\n",
       "      <td>1</td>\n",
       "    </tr>\n",
       "  </tbody>\n",
       "</table>\n",
       "</div>\n",
       "    <div class=\"colab-df-buttons\">\n",
       "\n",
       "  <div class=\"colab-df-container\">\n",
       "    <button class=\"colab-df-convert\" onclick=\"convertToInteractive('df-2d81bb88-7ee6-4ce4-a154-9c05ede1a5fa')\"\n",
       "            title=\"Convert this dataframe to an interactive table.\"\n",
       "            style=\"display:none;\">\n",
       "\n",
       "  <svg xmlns=\"http://www.w3.org/2000/svg\" height=\"24px\" viewBox=\"0 -960 960 960\">\n",
       "    <path d=\"M120-120v-720h720v720H120Zm60-500h600v-160H180v160Zm220 220h160v-160H400v160Zm0 220h160v-160H400v160ZM180-400h160v-160H180v160Zm440 0h160v-160H620v160ZM180-180h160v-160H180v160Zm440 0h160v-160H620v160Z\"/>\n",
       "  </svg>\n",
       "    </button>\n",
       "\n",
       "  <style>\n",
       "    .colab-df-container {\n",
       "      display:flex;\n",
       "      gap: 12px;\n",
       "    }\n",
       "\n",
       "    .colab-df-convert {\n",
       "      background-color: #E8F0FE;\n",
       "      border: none;\n",
       "      border-radius: 50%;\n",
       "      cursor: pointer;\n",
       "      display: none;\n",
       "      fill: #1967D2;\n",
       "      height: 32px;\n",
       "      padding: 0 0 0 0;\n",
       "      width: 32px;\n",
       "    }\n",
       "\n",
       "    .colab-df-convert:hover {\n",
       "      background-color: #E2EBFA;\n",
       "      box-shadow: 0px 1px 2px rgba(60, 64, 67, 0.3), 0px 1px 3px 1px rgba(60, 64, 67, 0.15);\n",
       "      fill: #174EA6;\n",
       "    }\n",
       "\n",
       "    .colab-df-buttons div {\n",
       "      margin-bottom: 4px;\n",
       "    }\n",
       "\n",
       "    [theme=dark] .colab-df-convert {\n",
       "      background-color: #3B4455;\n",
       "      fill: #D2E3FC;\n",
       "    }\n",
       "\n",
       "    [theme=dark] .colab-df-convert:hover {\n",
       "      background-color: #434B5C;\n",
       "      box-shadow: 0px 1px 3px 1px rgba(0, 0, 0, 0.15);\n",
       "      filter: drop-shadow(0px 1px 2px rgba(0, 0, 0, 0.3));\n",
       "      fill: #FFFFFF;\n",
       "    }\n",
       "  </style>\n",
       "\n",
       "    <script>\n",
       "      const buttonEl =\n",
       "        document.querySelector('#df-2d81bb88-7ee6-4ce4-a154-9c05ede1a5fa button.colab-df-convert');\n",
       "      buttonEl.style.display =\n",
       "        google.colab.kernel.accessAllowed ? 'block' : 'none';\n",
       "\n",
       "      async function convertToInteractive(key) {\n",
       "        const element = document.querySelector('#df-2d81bb88-7ee6-4ce4-a154-9c05ede1a5fa');\n",
       "        const dataTable =\n",
       "          await google.colab.kernel.invokeFunction('convertToInteractive',\n",
       "                                                    [key], {});\n",
       "        if (!dataTable) return;\n",
       "\n",
       "        const docLinkHtml = 'Like what you see? Visit the ' +\n",
       "          '<a target=\"_blank\" href=https://colab.research.google.com/notebooks/data_table.ipynb>data table notebook</a>'\n",
       "          + ' to learn more about interactive tables.';\n",
       "        element.innerHTML = '';\n",
       "        dataTable['output_type'] = 'display_data';\n",
       "        await google.colab.output.renderOutput(dataTable, element);\n",
       "        const docLink = document.createElement('div');\n",
       "        docLink.innerHTML = docLinkHtml;\n",
       "        element.appendChild(docLink);\n",
       "      }\n",
       "    </script>\n",
       "  </div>\n",
       "\n",
       "\n",
       "    <div id=\"df-3f4fdd4a-6b7f-41f1-bb1b-473aa21a9ef1\">\n",
       "      <button class=\"colab-df-quickchart\" onclick=\"quickchart('df-3f4fdd4a-6b7f-41f1-bb1b-473aa21a9ef1')\"\n",
       "                title=\"Suggest charts\"\n",
       "                style=\"display:none;\">\n",
       "\n",
       "<svg xmlns=\"http://www.w3.org/2000/svg\" height=\"24px\"viewBox=\"0 0 24 24\"\n",
       "     width=\"24px\">\n",
       "    <g>\n",
       "        <path d=\"M19 3H5c-1.1 0-2 .9-2 2v14c0 1.1.9 2 2 2h14c1.1 0 2-.9 2-2V5c0-1.1-.9-2-2-2zM9 17H7v-7h2v7zm4 0h-2V7h2v10zm4 0h-2v-4h2v4z\"/>\n",
       "    </g>\n",
       "</svg>\n",
       "      </button>\n",
       "\n",
       "<style>\n",
       "  .colab-df-quickchart {\n",
       "      --bg-color: #E8F0FE;\n",
       "      --fill-color: #1967D2;\n",
       "      --hover-bg-color: #E2EBFA;\n",
       "      --hover-fill-color: #174EA6;\n",
       "      --disabled-fill-color: #AAA;\n",
       "      --disabled-bg-color: #DDD;\n",
       "  }\n",
       "\n",
       "  [theme=dark] .colab-df-quickchart {\n",
       "      --bg-color: #3B4455;\n",
       "      --fill-color: #D2E3FC;\n",
       "      --hover-bg-color: #434B5C;\n",
       "      --hover-fill-color: #FFFFFF;\n",
       "      --disabled-bg-color: #3B4455;\n",
       "      --disabled-fill-color: #666;\n",
       "  }\n",
       "\n",
       "  .colab-df-quickchart {\n",
       "    background-color: var(--bg-color);\n",
       "    border: none;\n",
       "    border-radius: 50%;\n",
       "    cursor: pointer;\n",
       "    display: none;\n",
       "    fill: var(--fill-color);\n",
       "    height: 32px;\n",
       "    padding: 0;\n",
       "    width: 32px;\n",
       "  }\n",
       "\n",
       "  .colab-df-quickchart:hover {\n",
       "    background-color: var(--hover-bg-color);\n",
       "    box-shadow: 0 1px 2px rgba(60, 64, 67, 0.3), 0 1px 3px 1px rgba(60, 64, 67, 0.15);\n",
       "    fill: var(--button-hover-fill-color);\n",
       "  }\n",
       "\n",
       "  .colab-df-quickchart-complete:disabled,\n",
       "  .colab-df-quickchart-complete:disabled:hover {\n",
       "    background-color: var(--disabled-bg-color);\n",
       "    fill: var(--disabled-fill-color);\n",
       "    box-shadow: none;\n",
       "  }\n",
       "\n",
       "  .colab-df-spinner {\n",
       "    border: 2px solid var(--fill-color);\n",
       "    border-color: transparent;\n",
       "    border-bottom-color: var(--fill-color);\n",
       "    animation:\n",
       "      spin 1s steps(1) infinite;\n",
       "  }\n",
       "\n",
       "  @keyframes spin {\n",
       "    0% {\n",
       "      border-color: transparent;\n",
       "      border-bottom-color: var(--fill-color);\n",
       "      border-left-color: var(--fill-color);\n",
       "    }\n",
       "    20% {\n",
       "      border-color: transparent;\n",
       "      border-left-color: var(--fill-color);\n",
       "      border-top-color: var(--fill-color);\n",
       "    }\n",
       "    30% {\n",
       "      border-color: transparent;\n",
       "      border-left-color: var(--fill-color);\n",
       "      border-top-color: var(--fill-color);\n",
       "      border-right-color: var(--fill-color);\n",
       "    }\n",
       "    40% {\n",
       "      border-color: transparent;\n",
       "      border-right-color: var(--fill-color);\n",
       "      border-top-color: var(--fill-color);\n",
       "    }\n",
       "    60% {\n",
       "      border-color: transparent;\n",
       "      border-right-color: var(--fill-color);\n",
       "    }\n",
       "    80% {\n",
       "      border-color: transparent;\n",
       "      border-right-color: var(--fill-color);\n",
       "      border-bottom-color: var(--fill-color);\n",
       "    }\n",
       "    90% {\n",
       "      border-color: transparent;\n",
       "      border-bottom-color: var(--fill-color);\n",
       "    }\n",
       "  }\n",
       "</style>\n",
       "\n",
       "      <script>\n",
       "        async function quickchart(key) {\n",
       "          const quickchartButtonEl =\n",
       "            document.querySelector('#' + key + ' button');\n",
       "          quickchartButtonEl.disabled = true;  // To prevent multiple clicks.\n",
       "          quickchartButtonEl.classList.add('colab-df-spinner');\n",
       "          try {\n",
       "            const charts = await google.colab.kernel.invokeFunction(\n",
       "                'suggestCharts', [key], {});\n",
       "          } catch (error) {\n",
       "            console.error('Error during call to suggestCharts:', error);\n",
       "          }\n",
       "          quickchartButtonEl.classList.remove('colab-df-spinner');\n",
       "          quickchartButtonEl.classList.add('colab-df-quickchart-complete');\n",
       "        }\n",
       "        (() => {\n",
       "          let quickchartButtonEl =\n",
       "            document.querySelector('#df-3f4fdd4a-6b7f-41f1-bb1b-473aa21a9ef1 button');\n",
       "          quickchartButtonEl.style.display =\n",
       "            google.colab.kernel.accessAllowed ? 'block' : 'none';\n",
       "        })();\n",
       "      </script>\n",
       "    </div>\n",
       "\n",
       "  <div id=\"id_f417a001-a384-4da4-812a-1d171918df7e\">\n",
       "    <style>\n",
       "      .colab-df-generate {\n",
       "        background-color: #E8F0FE;\n",
       "        border: none;\n",
       "        border-radius: 50%;\n",
       "        cursor: pointer;\n",
       "        display: none;\n",
       "        fill: #1967D2;\n",
       "        height: 32px;\n",
       "        padding: 0 0 0 0;\n",
       "        width: 32px;\n",
       "      }\n",
       "\n",
       "      .colab-df-generate:hover {\n",
       "        background-color: #E2EBFA;\n",
       "        box-shadow: 0px 1px 2px rgba(60, 64, 67, 0.3), 0px 1px 3px 1px rgba(60, 64, 67, 0.15);\n",
       "        fill: #174EA6;\n",
       "      }\n",
       "\n",
       "      [theme=dark] .colab-df-generate {\n",
       "        background-color: #3B4455;\n",
       "        fill: #D2E3FC;\n",
       "      }\n",
       "\n",
       "      [theme=dark] .colab-df-generate:hover {\n",
       "        background-color: #434B5C;\n",
       "        box-shadow: 0px 1px 3px 1px rgba(0, 0, 0, 0.15);\n",
       "        filter: drop-shadow(0px 1px 2px rgba(0, 0, 0, 0.3));\n",
       "        fill: #FFFFFF;\n",
       "      }\n",
       "    </style>\n",
       "    <button class=\"colab-df-generate\" onclick=\"generateWithVariable('df_encoded')\"\n",
       "            title=\"Generate code using this dataframe.\"\n",
       "            style=\"display:none;\">\n",
       "\n",
       "  <svg xmlns=\"http://www.w3.org/2000/svg\" height=\"24px\"viewBox=\"0 0 24 24\"\n",
       "       width=\"24px\">\n",
       "    <path d=\"M7,19H8.4L18.45,9,17,7.55,7,17.6ZM5,21V16.75L18.45,3.32a2,2,0,0,1,2.83,0l1.4,1.43a1.91,1.91,0,0,1,.58,1.4,1.91,1.91,0,0,1-.58,1.4L9.25,21ZM18.45,9,17,7.55Zm-12,3A5.31,5.31,0,0,0,4.9,8.1,5.31,5.31,0,0,0,1,6.5,5.31,5.31,0,0,0,4.9,4.9,5.31,5.31,0,0,0,6.5,1,5.31,5.31,0,0,0,8.1,4.9,5.31,5.31,0,0,0,12,6.5,5.46,5.46,0,0,0,6.5,12Z\"/>\n",
       "  </svg>\n",
       "    </button>\n",
       "    <script>\n",
       "      (() => {\n",
       "      const buttonEl =\n",
       "        document.querySelector('#id_f417a001-a384-4da4-812a-1d171918df7e button.colab-df-generate');\n",
       "      buttonEl.style.display =\n",
       "        google.colab.kernel.accessAllowed ? 'block' : 'none';\n",
       "\n",
       "      buttonEl.onclick = () => {\n",
       "        google.colab.notebook.generateWithVariable('df_encoded');\n",
       "      }\n",
       "      })();\n",
       "    </script>\n",
       "  </div>\n",
       "\n",
       "    </div>\n",
       "  </div>\n"
      ],
      "text/plain": [
       "   Điểm_Tốt_Nghiệp  Chứng_chỉ_Ielts  Cộng_Điểm_Dân_Tộc  Đậu_ĐH\n",
       "0             12.0                1                  1       0\n",
       "1             14.5                1                  0       0\n",
       "2             16.0                1                  1       0\n",
       "3             18.0                1                  0       0\n",
       "4             20.0                0                  1       1\n",
       "5             22.0                1                  1       0\n",
       "6             24.0                0                  0       1\n",
       "7             26.0                1                  1       1"
      ]
     },
     "metadata": {},
     "output_type": "display_data"
    }
   ],
   "source": [
    "def encode_df(df):\n",
    "# Encode categorical features and target\n",
    "# We map 'Yes'/'No' in a way that ensures 'Yes' (0) goes to the left child, 'No' (1) to the right\n",
    "    df2 = df.copy()\n",
    "    bin_map = {'Có': 0, 'Không': 1}\n",
    "    df2['Chứng_chỉ_Ielts']   = df2['Chứng_chỉ_Ielts'].map(bin_map)\n",
    "    df2['Cộng_Điểm_Dân_Tộc'] = df2['Cộng_Điểm_Dân_Tộc'].map(bin_map)\n",
    "    df2['Đậu_ĐH']            = df2['Đậu_ĐH'].map({'Có': 1, 'Không': 0})\n",
    "    return df2\n",
    "\n",
    "# Load the dataset\n",
    "df = pd.read_csv(\n",
    "    'Student_Pass_Dataset.csv',\n",
    "    names=['Điểm_Tốt_Nghiệp', 'Chứng_chỉ_Ielts', 'Cộng_Điểm_Dân_Tộc', 'Đậu_ĐH'],\n",
    "    header=0\n",
    ")\n",
    "print(\"Original dataset:\")\n",
    "display(df)\n",
    "\n",
    "# Encode\n",
    "df_encoded = encode_df(df)\n",
    "print(\"Encoded dataset:\")\n",
    "display(df_encoded)"
   ]
  },
  {
   "cell_type": "markdown",
   "metadata": {
    "id": "xHF3jtTLFCUk"
   },
   "source": [
    "## **3. Compute root entropy of the target**"
   ]
  },
  {
   "cell_type": "code",
   "execution_count": null,
   "metadata": {
    "colab": {
     "base_uri": "https://localhost:8080/"
    },
    "executionInfo": {
     "elapsed": 45,
     "status": "ok",
     "timestamp": 1755081992193,
     "user": {
      "displayName": "HUY NGO GIA",
      "userId": "10961428971127427710"
     },
     "user_tz": -420
    },
    "id": "v-_GULp3EfO2",
    "outputId": "be96fa9b-7547-4eaf-f3d7-9e073ef5a7f6"
   },
   "outputs": [
    {
     "name": "stdout",
     "output_type": "stream",
     "text": [
      "Root Gini impurity của Đậu_ĐH = 0.4688\n"
     ]
    }
   ],
   "source": [
    "def gini (probs):\n",
    "    return 1 - np.sum(np.square(probs))\n",
    "\n",
    "root_probs = df_encoded['Đậu_ĐH'].value_counts(normalize=True).sort_index().values\n",
    "root_gini  = gini(root_probs)\n",
    "print(f\"Root Gini impurity của Đậu_ĐH = {root_gini:.4f}\")"
   ]
  },
  {
   "cell_type": "code",
   "execution_count": null,
   "metadata": {
    "colab": {
     "base_uri": "https://localhost:8080/"
    },
    "executionInfo": {
     "elapsed": 14,
     "status": "ok",
     "timestamp": 1755081997408,
     "user": {
      "displayName": "HUY NGO GIA",
      "userId": "10961428971127427710"
     },
     "user_tz": -420
    },
    "id": "SKk-Xg7df6Q8",
    "outputId": "41cfb3b2-d146-40b4-a1cf-1cc7948a6f6e"
   },
   "outputs": [
    {
     "name": "stdout",
     "output_type": "stream",
     "text": [
      "Bước 1 - target_col:\n",
      "0    0\n",
      "1    0\n",
      "2    0\n",
      "3    0\n",
      "4    1\n",
      "Name: Đậu_ĐH, dtype: int64 \n",
      "\n"
     ]
    }
   ],
   "source": [
    "# Lấy cột mục tiêu\n",
    "target_col = df_encoded['Đậu_ĐH']\n",
    "print(\"Bước 1 - target_col:\")\n",
    "print(target_col.head(), \"\\n\")  # in 5 giá trị đầu"
   ]
  },
  {
   "cell_type": "code",
   "execution_count": null,
   "metadata": {
    "colab": {
     "base_uri": "https://localhost:8080/"
    },
    "executionInfo": {
     "elapsed": 4,
     "status": "ok",
     "timestamp": 1755082013475,
     "user": {
      "displayName": "HUY NGO GIA",
      "userId": "10961428971127427710"
     },
     "user_tz": -420
    },
    "id": "ZpVsgpMjf6N4",
    "outputId": "4bc07a7f-abba-4154-c15a-a1ca6bc4feae"
   },
   "outputs": [
    {
     "name": "stdout",
     "output_type": "stream",
     "text": [
      "Bước 2 - value_counts(normalize=True):\n",
      "Đậu_ĐH\n",
      "0    0.625\n",
      "1    0.375\n",
      "Name: proportion, dtype: float64 \n",
      "\n"
     ]
    }
   ],
   "source": [
    "# Đếm số lượng từng lớp và chuẩn hóa thành tỉ lệ\n",
    "value_counts_norm = target_col.value_counts(normalize=True)\n",
    "print(\"Bước 2 - value_counts(normalize=True):\")\n",
    "print(value_counts_norm, \"\\n\")"
   ]
  },
  {
   "cell_type": "code",
   "execution_count": null,
   "metadata": {
    "colab": {
     "base_uri": "https://localhost:8080/"
    },
    "executionInfo": {
     "elapsed": 44,
     "status": "ok",
     "timestamp": 1755082021732,
     "user": {
      "displayName": "HUY NGO GIA",
      "userId": "10961428971127427710"
     },
     "user_tz": -420
    },
    "id": "fbsNt_C6f6JW",
    "outputId": "0f3c1215-4aeb-4a4f-b9fa-287488a8e9a5"
   },
   "outputs": [
    {
     "name": "stdout",
     "output_type": "stream",
     "text": [
      "Bước 3 - sort_index():\n",
      "Đậu_ĐH\n",
      "0    0.625\n",
      "1    0.375\n",
      "Name: proportion, dtype: float64 \n",
      "\n"
     ]
    }
   ],
   "source": [
    "# Sắp xếp theo giá trị nhãn tăng dần (0 trước 1)\n",
    "sorted_counts = value_counts_norm.sort_index()\n",
    "print(\"Bước 3 - sort_index():\")\n",
    "print(sorted_counts, \"\\n\")\n"
   ]
  },
  {
   "cell_type": "code",
   "execution_count": null,
   "metadata": {
    "colab": {
     "base_uri": "https://localhost:8080/"
    },
    "executionInfo": {
     "elapsed": 37,
     "status": "ok",
     "timestamp": 1755082025968,
     "user": {
      "displayName": "HUY NGO GIA",
      "userId": "10961428971127427710"
     },
     "user_tz": -420
    },
    "id": "9vibgJSgf6Gk",
    "outputId": "aebd18ad-2196-47f7-bb1b-59f790899685"
   },
   "outputs": [
    {
     "name": "stdout",
     "output_type": "stream",
     "text": [
      "Bước 4 - .values:\n",
      "[0.625 0.375] \n",
      "\n"
     ]
    }
   ],
   "source": [
    "# Chuyển sang mảng NumPy\n",
    "root_probs = sorted_counts.values\n",
    "print(\"Bước 4 - .values:\")\n",
    "print(root_probs, \"\\n\")"
   ]
  },
  {
   "cell_type": "code",
   "execution_count": null,
   "metadata": {
    "colab": {
     "base_uri": "https://localhost:8080/"
    },
    "executionInfo": {
     "elapsed": 9,
     "status": "ok",
     "timestamp": 1755082029949,
     "user": {
      "displayName": "HUY NGO GIA",
      "userId": "10961428971127427710"
     },
     "user_tz": -420
    },
    "id": "29PXrFXVf6C3",
    "outputId": "bc8d7a8e-83a3-4dbe-8191-709cf24bf953"
   },
   "outputs": [
    {
     "name": "stdout",
     "output_type": "stream",
     "text": [
      "Bước 5 - Gini impurity tại gốc: 0.4688\n"
     ]
    }
   ],
   "source": [
    "# Tính Gini từ root_probs\n",
    "root_gini = 1 - np.sum(np.square(root_probs))\n",
    "print(f\"Bước 5 - Gini impurity tại gốc: {root_gini:.4f}\")"
   ]
  },
  {
   "cell_type": "markdown",
   "metadata": {
    "id": "7R9HxSg_FIpW"
   },
   "source": [
    "## **4. Compute Information Gain for each feature**"
   ]
  },
  {
   "cell_type": "code",
   "execution_count": null,
   "metadata": {
    "colab": {
     "base_uri": "https://localhost:8080/"
    },
    "executionInfo": {
     "elapsed": 179,
     "status": "ok",
     "timestamp": 1755057160791,
     "user": {
      "displayName": "Hien Nguyen",
      "userId": "15868683241924774800"
     },
     "user_tz": -420
    },
    "id": "gUu4OaGWEhc6",
    "outputId": "6d69b86b-097c-49b6-bb88-134fe99da5b4"
   },
   "outputs": [
    {
     "name": "stdout",
     "output_type": "stream",
     "text": [
      "\n",
      "Gini Gain cho từng thuộc tính:\n",
      "\n",
      "- Thuộc tính: Chứng_chỉ_Ielts\n",
      "    Ngưỡng ≤ 0.5: Gini(L)=0.0000, Gini(R)=0.2778, Gini trọng số=0.2083, Gain=0.2604\n",
      "  → Chọn ngưỡng 0.5 với Gini Gain = 0.2604\n",
      "\n",
      "- Thuộc tính: Điểm_Tốt_Nghiệp\n",
      "    Ngưỡng ≤ 13.25: Gini(L)=0.0000, Gini(R)=0.4898, Gini trọng số=0.4286, Gain=0.0402\n",
      "    Ngưỡng ≤ 15.25: Gini(L)=0.0000, Gini(R)=0.5000, Gini trọng số=0.3750, Gain=0.0938\n",
      "    Ngưỡng ≤ 17.0: Gini(L)=0.0000, Gini(R)=0.4800, Gini trọng số=0.3000, Gain=0.1688\n",
      "    Ngưỡng ≤ 19.0: Gini(L)=0.0000, Gini(R)=0.3750, Gini trọng số=0.1875, Gain=0.2812\n",
      "    Ngưỡng ≤ 21.0: Gini(L)=0.3200, Gini(R)=0.4444, Gini trọng số=0.3667, Gain=0.1021\n",
      "    Ngưỡng ≤ 23.0: Gini(L)=0.2778, Gini(R)=0.0000, Gini trọng số=0.2083, Gain=0.2604\n",
      "    Ngưỡng ≤ 25.0: Gini(L)=0.4082, Gini(R)=0.0000, Gini trọng số=0.3571, Gain=0.1116\n",
      "  → Chọn ngưỡng 19.0 với Gini Gain = 0.2812\n",
      "\n",
      "- Thuộc tính: Cộng_Điểm_Dân_Tộc\n",
      "    Ngưỡng ≤ 0.5: Gini(L)=0.4444, Gini(R)=0.4800, Gini trọng số=0.4667, Gain=0.0021\n",
      "  → Chọn ngưỡng 0.5 với Gini Gain = 0.0021\n"
     ]
    }
   ],
   "source": [
    "print(\"\\nGini Gain cho từng thuộc tính:\")\n",
    "features = ['Chứng_chỉ_Ielts','Điểm_Tốt_Nghiệp','Cộng_Điểm_Dân_Tộc']\n",
    "for feat in features:\n",
    "    print(f\"\\n- Thuộc tính: {feat}\")\n",
    "    vals = sorted(df_encoded[feat].unique())\n",
    "    thresholds = [0.5] if feat in ['Chứng_chỉ_Ielts','Cộng_Điểm_Dân_Tộc'] \\\n",
    "                 else [(vals[i]+vals[i+1])/2 for i in range(len(vals)-1)]\n",
    "    best_gain, best_thr = -1, None\n",
    "    for thr in thresholds:\n",
    "        left  = df_encoded[df_encoded[feat] <= thr]['Đậu_ĐH']\n",
    "        right = df_encoded[df_encoded[feat] >  thr]['Đậu_ĐH']\n",
    "        pL, pR = left.value_counts(normalize=True).values, right.value_counts(normalize=True).values\n",
    "        gL, gR = gini(pL), gini(pR)\n",
    "        wG     = (len(left)/len(df_encoded))*gL + (len(right)/len(df_encoded))*gR\n",
    "        gain   = root_gini - wG\n",
    "        print(f\"    Ngưỡng ≤ {thr}: Gini(L)={gL:.4f}, Gini(R)={gR:.4f}, Gini trọng số={wG:.4f}, Gain={gain:.4f}\")\n",
    "        if gain > best_gain:\n",
    "            best_gain, best_thr = gain, thr\n",
    "    print(f\"  → Chọn ngưỡng {best_thr} với Gini Gain = {best_gain:.4f}\")"
   ]
  },
  {
   "cell_type": "markdown",
   "metadata": {
    "id": "CSTJdR_SFOxQ"
   },
   "source": [
    "## **5. Train a full-depth tree and visualize**"
   ]
  },
  {
   "cell_type": "code",
   "execution_count": null,
   "metadata": {
    "colab": {
     "base_uri": "https://localhost:8080/",
     "height": 521
    },
    "executionInfo": {
     "elapsed": 583,
     "status": "ok",
     "timestamp": 1755053192206,
     "user": {
      "displayName": "Hien Nguyen",
      "userId": "15868683241924774800"
     },
     "user_tz": -420
    },
    "id": "mi22zXfpEj0G",
    "outputId": "a8eb1e70-d38e-4900-8a37-c578cd788305"
   },
   "outputs": [
    {
     "data": {
      "image/png": "[encoded data removed]",
      "text/plain": [
       "<Figure size 1000x600 with 1 Axes>"
      ]
     },
     "metadata": {},
     "output_type": "display_data"
    }
   ],
   "source": [
    "# Train the full decision tree (criterion='gini') and visualize\n",
    "X   = df_encoded[features]\n",
    "y   = df_encoded['Đậu_ĐH']\n",
    "clf = DecisionTreeClassifier(criterion='gini', random_state=0)\n",
    "clf.fit(X, y)\n",
    "\n",
    "plt.figure(figsize=(10,6))\n",
    "plot_tree(\n",
    "    clf,\n",
    "    feature_names=['Chứng chỉ IELTS','Điểm Tốt Nghiệp','Cộng Điểm Dân Tộc'],\n",
    "    class_names=['Không','Có'],\n",
    "    filled=True, rounded=True, proportion=True, impurity=False, fontsize=10\n",
    ")\n",
    "plt.title('Decision Tree (Gini)')\n",
    "plt.show()"
   ]
  },
  {
   "cell_type": "markdown",
   "metadata": {
    "id": "q6XiuNmI_Z3f"
   },
   "source": [
    "##**6. Test**"
   ]
  },
  {
   "cell_type": "code",
   "execution_count": null,
   "metadata": {
    "colab": {
     "base_uri": "https://localhost:8080/"
    },
    "executionInfo": {
     "elapsed": 46,
     "status": "ok",
     "timestamp": 1755053196495,
     "user": {
      "displayName": "Hien Nguyen",
      "userId": "15868683241924774800"
     },
     "user_tz": -420
    },
    "id": "q6XYm7yg7hLV",
    "outputId": "ebc588a4-905e-41e0-d653-5dce23f91c00"
   },
   "outputs": [
    {
     "name": "stdout",
     "output_type": "stream",
     "text": [
      "Kết quả dự đoán: Có\n"
     ]
    }
   ],
   "source": [
    "_mapping = {'Có': 0, 'Không': 1}\n",
    "def encode_input(record):\n",
    "    return [\n",
    "        _mapping[record['Chứng_chỉ_Ielts']],\n",
    "        record['Điểm_Tốt_Nghiệp'],\n",
    "        _mapping[record['Cộng_Điểm_Dân_Tộc']]\n",
    "    ]\n",
    "\n",
    "def predict_pass(record):\n",
    "    x_list = encode_input(record)\n",
    "    df_new  = pd.DataFrame([x_list], columns=features)\n",
    "    pred    = clf.predict(df_new)[0]\n",
    "    return 'Có' if pred==1 else 'Không'\n",
    "\n",
    "new_student = {\n",
    "    'Điểm_Tốt_Nghiệp': 27.0,\n",
    "    'Chứng_chỉ_Ielts': 'Có',\n",
    "    'Cộng_Điểm_Dân_Tộc': 'Không'\n",
    "}\n",
    "print(\"Kết quả dự đoán:\", predict_pass(new_student))"
   ]
  },
  {
   "cell_type": "markdown",
   "metadata": {
    "id": "1o_ZhE2AAMVw"
   },
   "source": [
    "## **7. Demo with Gradio**"
   ]
  },
  {
   "cell_type": "code",
   "execution_count": null,
   "metadata": {
    "colab": {
     "base_uri": "https://localhost:8080/",
     "height": 646
    },
    "executionInfo": {
     "elapsed": 1660,
     "status": "ok",
     "timestamp": 1755053215599,
     "user": {
      "displayName": "Hien Nguyen",
      "userId": "15868683241924774800"
     },
     "user_tz": -420
    },
    "id": "FYFcFp1oAGtE",
    "outputId": "af45acfe-0b14-45a1-88b4-52f3767e6a74"
   },
   "outputs": [
    {
     "name": "stdout",
     "output_type": "stream",
     "text": [
      "It looks like you are running Gradio on a hosted Jupyter notebook, which requires `share=True`. Automatically setting `share=True` (you can turn this off by setting `share=False` in `launch()` explicitly).\n",
      "\n",
      "Colab notebook detected. To show errors in colab notebook, set debug=True in launch()\n",
      "* Running on public URL: https://ab7fac3ae410eed6e4.gradio.live\n",
      "\n",
      "This share link expires in 1 week. For free permanent hosting and GPU upgrades, run `gradio deploy` from the terminal in the working directory to deploy to Hugging Face Spaces (https://huggingface.co/spaces)\n"
     ]
    },
    {
     "data": {
      "text/html": [
       "<div><iframe src=\"https://ab7fac3ae410eed6e4.gradio.live\" width=\"100%\" height=\"500\" allow=\"autoplay; camera; microphone; clipboard-read; clipboard-write;\" frameborder=\"0\" allowfullscreen></iframe></div>"
      ],
      "text/plain": [
       "<IPython.core.display.HTML object>"
      ]
     },
     "metadata": {},
     "output_type": "display_data"
    },
    {
     "data": {
      "text/plain": []
     },
     "execution_count": 8,
     "metadata": {},
     "output_type": "execute_result"
    }
   ],
   "source": [
    "def predict_and_plot(diem, ielts, dan_toc):\n",
    "    try:\n",
    "        record = {\n",
    "            'Điểm_Tốt_Nghiệp': float(diem),\n",
    "            'Chứng_chỉ_Ielts': ielts,\n",
    "            'Cộng_Điểm_Dân_Tộc': dan_toc\n",
    "        }\n",
    "\n",
    "        result = predict_pass(record)\n",
    "\n",
    "        fig, ax = plt.subplots(figsize=(8,6))\n",
    "        plot_tree(\n",
    "            clf,\n",
    "            feature_names=['Chứng chỉ IELTS','Điểm Tốt Nghiệp','Cộng Điểm Dân Tộc'],\n",
    "            class_names=['Không','Có'],\n",
    "            filled=True, rounded=True, proportion=True, impurity=False,\n",
    "            fontsize=8, ax=ax\n",
    "        )\n",
    "        ax.set_title('Decision Tree (Gini)')\n",
    "        plt.tight_layout()\n",
    "\n",
    "        return result, fig\n",
    "\n",
    "    except Exception as e:\n",
    "        return f\"Lỗi nhập liệu: {e}\", None\n",
    "\n",
    "iface = gr.Interface(\n",
    "    fn=predict_and_plot,\n",
    "    inputs=[\n",
    "        gr.Number(label=\"Điểm Tốt Nghiệp\", value=None, placeholder=\"Ví dụ: 27.0\"),\n",
    "        gr.Radio(['Có','Không'], label=\"Chứng chỉ IELTS\", value='Có'),\n",
    "        gr.Radio(['Có','Không'], label=\"Cộng Điểm Dân Tộc\", value='Không'),\n",
    "    ],\n",
    "    outputs=[\n",
    "        gr.Textbox(label=\"Dự đoán Đậu Đại Học\"),\n",
    "        gr.Plot(label=\"Decision Tree\")\n",
    "    ],\n",
    "    title=\"Demo Student Pass Predictor (Gini)\",\n",
    "    description=\"\"\"\n",
    "    **Hướng dẫn nhập liệu**\n",
    "    - **Điểm Tốt Nghiệp**: Nhập số điểm tốt nghiệp (float).\n",
    "    - **Chứng chỉ IELTS**: Chọn `Có`/`Không`.\n",
    "    - **Cộng Điểm Dân Tộc**: Chọn `Có`/`Không`.\n",
    "    Bấm **Run** để xem kết quả dự đoán và cây quyết định dùng Gini impurity.\n",
    "    \"\"\"\n",
    ")\n",
    "\n",
    "iface.launch()"
   ]
  }
 ],
 "metadata": {
  "colab": {
   "provenance": []
  },
  "kernelspec": {
   "display_name": "Python 3",
   "name": "python3"
  },
  "language_info": {
   "name": "python"
  }
 },
 "nbformat": 4,
 "nbformat_minor": 0
}
